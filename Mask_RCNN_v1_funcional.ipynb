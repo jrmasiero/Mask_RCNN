{
 "cells": [
  {
   "cell_type": "markdown",
   "metadata": {
    "colab_type": "text",
    "id": "9uB4cF2D7t_5"
   },
   "source": [
    "# Definir diretório raiz"
   ]
  },
  {
   "cell_type": "code",
   "execution_count": 1,
   "metadata": {
    "colab": {},
    "colab_type": "code",
    "id": "65U460kq72Ai"
   },
   "outputs": [
    {
     "name": "stdout",
     "output_type": "stream",
     "text": [
      "C:/Users/joser/Documents/PROJETOS_DS_DBLab/Mask_RCNN\n"
     ]
    }
   ],
   "source": [
    "from tkinter import filedialog\n",
    "from tkinter import *\n",
    "import os \n",
    "import pandas as pd\n",
    "from PIL import Image\n",
    "\n",
    "root = Tk()\n",
    "#root.filename =  filedialog.asksaveasfilename(initialdir = \"/\",title = \"Select file\",filetypes = ((\"jpeg files\",\"*.jpg\"),(\"all files\",\"*.*\")))\n",
    "root.dir_raiz = filedialog.askdirectory()\n",
    "print (root.dir_raiz)\n",
    "\n",
    "\n",
    "os.chdir(root.dir_raiz)\n",
    "\n",
    "\n"
   ]
  },
  {
   "cell_type": "markdown",
   "metadata": {},
   "source": [
    "# DEFFINIÇÂO DE Nome dos Arquivos E Quantidades"
   ]
  },
  {
   "cell_type": "code",
   "execution_count": 2,
   "metadata": {},
   "outputs": [
    {
     "name": "stdout",
     "output_type": "stream",
     "text": [
      "C:/Users/joser/Documents/PROJETOS_DS_DBLab/Mask_RCNN/images/garrafa_1\n"
     ]
    }
   ],
   "source": [
    "\n",
    "\n",
    "#root.filename =  filedialog.asksaveasfilename(initialdir = \"/\",title = \"Select file\",filetypes = ((\"jpeg files\",\"*.jpg\"),(\"all files\",\"*.*\")))\n",
    "root.filename = filedialog.askdirectory()\n",
    "print (root.filename)\n",
    "\n",
    "imagens_produto_path = root.filename + \"/\" \n",
    "nome_produto = root.filename.split(\"/\")\n",
    "nome_produto = nome_produto[len(nome_produto)-1]\n",
    "\n",
    "\n",
    "root.destroy()\n"
   ]
  },
  {
   "cell_type": "code",
   "execution_count": 3,
   "metadata": {},
   "outputs": [],
   "source": [
    "#pip install natsort"
   ]
  },
  {
   "cell_type": "markdown",
   "metadata": {
    "colab_type": "text",
    "id": "9z09lA9CTiMf"
   },
   "source": [
    "# Analisar fotos do meu repositorio"
   ]
  },
  {
   "cell_type": "code",
   "execution_count": 4,
   "metadata": {},
   "outputs": [],
   "source": [
    "from os import listdir\n",
    "from os.path import isfile, join\n",
    "from natsort import natsorted\n",
    "\n",
    "arquivos_imagens = [f for f in natsorted(listdir(imagens_produto_path)) if isfile(join(imagens_produto_path, f))]\n",
    "\n",
    "#print(arquivos_imagens)\n"
   ]
  },
  {
   "cell_type": "markdown",
   "metadata": {
    "colab_type": "text",
    "id": "FyO_T7_h7xHq"
   },
   "source": [
    "# Prepare Model"
   ]
  },
  {
   "cell_type": "code",
   "execution_count": 5,
   "metadata": {
    "colab": {
     "base_uri": "https://localhost:8080/",
     "height": 71
    },
    "colab_type": "code",
    "id": "q3TqaKKzukha",
    "outputId": "f1b57611-f5da-4203-8b95-08007f78ea30"
   },
   "outputs": [
    {
     "name": "stderr",
     "output_type": "stream",
     "text": [
      "Using TensorFlow backend.\n"
     ]
    }
   ],
   "source": [
    "import sys\n",
    "import random\n",
    "import math\n",
    "import numpy as np\n",
    "\n",
    "import skimage.io\n",
    "import matplotlib\n",
    "import matplotlib.pyplot as plt\n",
    "import pycocotools\n",
    "\n",
    "# Root directory of the project\n",
    "ROOT_DIR = os.path.abspath(\"../\")\n",
    "\n",
    "# Import Mask RCNN\n",
    "sys.path.append(ROOT_DIR)  # To find local version of the library\n",
    "from mrcnn import utils\n",
    "import mrcnn.model as modellib\n",
    "from mrcnn import visualize\n",
    "# Import COCO config\n",
    "sys.path.append(os.path.join(ROOT_DIR, \"samples/coco/\"))  # To find local version\n",
    "#import coco\n",
    "from samples.coco import coco\n",
    "\n",
    "%matplotlib inline \n",
    "\n",
    "# Directory to save logs and trained model\n",
    "MODEL_DIR = os.path.join(ROOT_DIR, \"logs\")\n",
    "\n",
    "# Local path to trained weights file\n",
    "COCO_MODEL_PATH = os.path.join(ROOT_DIR, \"mask_rcnn_coco.h5\")\n",
    "# Download COCO trained weights from Releases if needed\n",
    "if not os.path.exists(COCO_MODEL_PATH):\n",
    "    utils.download_trained_weights(COCO_MODEL_PATH)\n",
    "\n",
    "# Directory of images to run detection on\n",
    "IMAGE_DIR = imagens_produto_path;"
   ]
  },
  {
   "cell_type": "markdown",
   "metadata": {
    "colab_type": "text",
    "id": "pRNzMHg08Uvn"
   },
   "source": [
    "# Create Inference Object"
   ]
  },
  {
   "cell_type": "code",
   "execution_count": 6,
   "metadata": {
    "colab": {},
    "colab_type": "code",
    "id": "x-SLKOPeu0PY"
   },
   "outputs": [],
   "source": [
    "class InferenceConfig(coco.CocoConfig):\n",
    "    # Set batch size to 1 since we'll be running inference on\n",
    "    # one image at a time. Batch size = GPU_COUNT * IMAGES_PER_GPU\n",
    "    GPU_COUNT = 1\n",
    "    IMAGES_PER_GPU = 1\n",
    "\n",
    "config = InferenceConfig()"
   ]
  },
  {
   "cell_type": "code",
   "execution_count": 7,
   "metadata": {
    "colab": {
     "base_uri": "https://localhost:8080/",
     "height": 144
    },
    "colab_type": "code",
    "id": "j-C88yeKvWaa",
    "outputId": "db072be8-d781-4fa0-bc52-578003d7dbfa"
   },
   "outputs": [
    {
     "name": "stdout",
     "output_type": "stream",
     "text": [
      "WARNING:tensorflow:From c:\\users\\joser\\appdata\\local\\programs\\python\\python37\\lib\\site-packages\\tensorflow\\python\\framework\\op_def_library.py:263: colocate_with (from tensorflow.python.framework.ops) is deprecated and will be removed in a future version.\n",
      "Instructions for updating:\n",
      "Colocations handled automatically by placer.\n",
      "WARNING:tensorflow:From C:\\Users\\joser\\Documents\\PROJETOS_DS_DBLab\\Mask_RCNN\\mrcnn\\model.py:773: to_float (from tensorflow.python.ops.math_ops) is deprecated and will be removed in a future version.\n",
      "Instructions for updating:\n",
      "Use tf.cast instead.\n"
     ]
    }
   ],
   "source": [
    "\n",
    "\n",
    "# Create model object in inference mode.\n",
    "model = modellib.MaskRCNN(mode=\"inference\", model_dir=MODEL_DIR, config=config)\n",
    "\n",
    "# Load weights trained on MS-COCO\n",
    "model.load_weights(COCO_MODEL_PATH, by_name=True)\n",
    "\n"
   ]
  },
  {
   "cell_type": "code",
   "execution_count": 8,
   "metadata": {
    "colab": {},
    "colab_type": "code",
    "id": "2rEErre3vY5m"
   },
   "outputs": [],
   "source": [
    "# COCO Class names\n",
    "# Index of the class in the list is its ID. For example, to get ID of\n",
    "# the teddy bear class, use: class_names.index('teddy bear')\n",
    "class_names = ['BG', 'person', 'bicycle', 'car', 'motorcycle', 'airplane',\n",
    "               'bus', 'train', 'truck', 'boat', 'traffic light',\n",
    "               'fire hydrant', 'stop sign', 'parking meter', 'bench', 'bird',\n",
    "               'cat', 'dog', 'horse', 'sheep', 'cow', 'elephant', 'bear',\n",
    "               'zebra', 'giraffe', 'backpack', 'umbrella', 'handbag', 'tie',\n",
    "               'suitcase', 'frisbee', 'skis', 'snowboard', 'sports ball',\n",
    "               'kite', 'baseball bat', 'baseball glove', 'skateboard',\n",
    "               'surfboard', 'tennis racket', 'bottle', 'wine glass', 'cup',\n",
    "               'fork', 'knife', 'spoon', 'bowl', 'banana', 'apple',\n",
    "               'sandwich', 'orange', 'broccoli', 'carrot', 'hot dog', 'pizza',\n",
    "               'donut', 'cake', 'chair', 'couch', 'potted plant', 'bed',\n",
    "               'dining table', 'toilet', 'tv', 'laptop', 'mouse', 'remote',\n",
    "               'keyboard', 'cell phone', 'microwave', 'oven', 'toaster',\n",
    "               'sink', 'refrigerator', 'book', 'clock', 'vase', 'scissors',\n",
    "               'teddy bear', 'hair drier', 'toothbrush']"
   ]
  },
  {
   "cell_type": "markdown",
   "metadata": {
    "colab_type": "text",
    "id": "6PTdUjUC76A8"
   },
   "source": [
    "# Prediction and Visualization"
   ]
  },
  {
   "cell_type": "markdown",
   "metadata": {},
   "source": [
    "# Cria diretorio com nome do produto na Pasta de OUTPUT das mascaras e coordenadas"
   ]
  },
  {
   "cell_type": "code",
   "execution_count": 9,
   "metadata": {},
   "outputs": [
    {
     "name": "stdout",
     "output_type": "stream",
     "text": [
      "Creation of the directory output\\garrafa_1 failed\n"
     ]
    }
   ],
   "source": [
    "path = \"output\\\\\"+nome_produto\n",
    "\n",
    "try:  \n",
    "    os.mkdir(path)\n",
    "except OSError:  \n",
    "    print (\"Creation of the directory %s failed\" % path)\n",
    "else:  \n",
    "    print (\"Successfully created the directory %s \" % path)"
   ]
  },
  {
   "cell_type": "markdown",
   "metadata": {},
   "source": [
    "# Passa as imagens de produto da pasta para gerar coordenas e mascaras"
   ]
  },
  {
   "cell_type": "code",
   "execution_count": 18,
   "metadata": {
    "colab": {
     "base_uri": "https://localhost:8080/",
     "height": 35
    },
    "colab_type": "code",
    "id": "YBaILxtBPyBu",
    "outputId": "5f4f029e-f8ad-41a9-ca41-76d766feca98"
   },
   "outputs": [
    {
     "name": "stdout",
     "output_type": "stream",
     "text": [
      "C:/Users/joser/Documents/PROJETOS_DS_DBLab/Mask_RCNN/images/garrafa_1/prod_(0).png\n",
      "   Ymin  Xmin  Ymax  Xmax  id                           name  \\\n",
      "0   104   127   437   237   0  images\\garrafa_1\\prod_(0).png   \n",
      "\n",
      "                            mask  \n",
      "0  output\\garrafa_1\\mask_(0).png  \n",
      "done\n"
     ]
    }
   ],
   "source": [
    "\n",
    "\n",
    "coordenadas = np.empty([1, 5], dtype=int)\n",
    "\n",
    "df_fileName = pd.DataFrame()\n",
    "nomes_masks = pd.DataFrame()\n",
    "\n",
    "#print(coordenadas.shape)\n",
    "\n",
    "#for i in range(0,len(arquivos_imagens)-1):\n",
    "    #print(len(arquivos_imagens))\n",
    "\n",
    "for i in range(0, 1):\n",
    "    \n",
    "    path = imagens_produto_path + arquivos_imagens[i]\n",
    "    image = skimage.io.imread(path)\n",
    "    print(path)\n",
    "    df_fileName[i] = [\"images\\\\\"+nome_produto+\"\\\\\"+arquivos_imagens[i]]\n",
    "    # Run detection\n",
    "    results = model.detect([image], verbose=0)\n",
    "  \n",
    "    # Visualize results\n",
    "    r = results[0]\n",
    "\n",
    "    b = np.empty([1, 5], dtype=int)\n",
    "    #print('b 0 ',b)\n",
    "\n",
    "    b[0,:-1] = r['rois'][0]\n",
    "  \n",
    "    \n",
    "\n",
    "    b[0,4] = i\n",
    "\n",
    "    coordenadas = np.append(coordenadas, b, axis=0)\n",
    "  \n",
    "    imagem_export = r['masks'][:,:,0]\n",
    "    im = Image.fromarray(imagem_export.astype('uint8')*255)\n",
    "    im.save(\"output\\\\\"+nome_produto+\"\\\\mask_(\"+\"{}\".format(i)+\").png\")\n",
    "    nomes_masks[i] = [\"output\\\\\"+nome_produto+\"\\\\mask_(\"+\"{}\".format(i)+\").png\"]\n",
    "\n",
    "coordenadas = np.delete(coordenadas, 0, 0)\n",
    "\n",
    "names = [\"Ymin\", \"Xmin\", \"Ymax\", \"Xmax\", \"id\"]\n",
    "df = pd.DataFrame(coordenadas, columns=names)\n",
    "\n",
    "\n",
    "df[\"name\"] = df_fileName\n",
    "df[\"mask\"] = nomes_masks\n",
    "\n",
    "df.to_csv(\"output\\\\\"+nome_produto+\"\\\\\"+nome_produto+\".csv\", index=True, header=True, sep=',')\n",
    "\n",
    "print(df)\n",
    "print(\"done\")\n"
   ]
  },
  {
   "cell_type": "markdown",
   "metadata": {
    "colab_type": "text",
    "id": "15MmM7qjP4ZO"
   },
   "source": [
    "# Background Removal"
   ]
  },
  {
   "cell_type": "code",
   "execution_count": null,
   "metadata": {},
   "outputs": [],
   "source": [
    "\n",
    "\n",
    "# Load a random image from the images folder\n",
    "#for i in range(0,351):\n",
    "for i in range(0,1):\n",
    "    path = 'images/garrafa_2/garrafa2('+\"{}\".format(i)+').png'\n",
    "    image = skimage.io.imread(path)\n",
    "#image = skimage.io.imread(os.path.join(IMAGE_DIR, random.choice(file_names)))\n",
    "\n",
    "# Run detection\n",
    "    results = model.detect([image], verbose=1)"
   ]
  },
  {
   "cell_type": "code",
   "execution_count": null,
   "metadata": {},
   "outputs": [],
   "source": [
    "# Visualize results\n",
    "r = results[0]\n",
    "\n",
    "r['masks'].shape\n",
    "\n",
    "#r['masks'].transpose(1, 0, 2).shape\n",
    "\n",
    "image.shape\n",
    "\n",
    "#print(r['masks'])\n",
    "\n",
    "#np.savetxt(\"images/coord_mascara.csv\", r['masks'], delimiter=\",\", fmt='%s')\n",
    "#print(done)\n",
    "\n",
    "#visualize.apply_mask(image[:,:,:2], r['masks'], [1, 0, 0], alpha=1.0)\n",
    "\n",
    "\n",
    "visualize.display_instances(image, r['rois'], r['masks'], r['class_ids'], \n",
    "                       class_names, r['scores'])\n",
    "\n",
    "#visualize.save_image(image, \"mascara_197\", r['rois'], r['masks'], r['class_ids'], \n",
    "#                        r['scores'], class_names, mode = 3)"
   ]
  },
  {
   "cell_type": "code",
   "execution_count": null,
   "metadata": {},
   "outputs": [],
   "source": [
    "#PARA TODAS AS IMAGENS GERAR MASCARAS\n",
    "\n",
    "# Load a random image from the images folder\n",
    "for i in range(0,n_aquivos):\n",
    "\n",
    "    path = 'images/garrafa_2/garrafa2('+\"{}\".format(i)+').png'\n",
    "    image = skimage.io.imread(path)\n",
    "#image = skimage.io.imread(os.path.join(IMAGE_DIR, random.choice(file_names)))\n",
    "\n",
    "# Run detection\n",
    "    results = model.detect([image], verbose=1)\n",
    "    \n",
    "    # Visualize results\n",
    "    r = results[0]\n",
    "    \n",
    "  \n",
    "    if results[0]['rois'].shape == (1,4):\n",
    "    \n",
    "        visualize.save_image(image, 'mask_('+\"{}\".format(i)+')', r['rois'], r['masks'], r['class_ids'], \n",
    "                        r['scores'], class_names, mode = 3)\n",
    "        print(i)\n",
    "     \n",
    "print('done');\n",
    "    \n",
    "    "
   ]
  }
 ],
 "metadata": {
  "accelerator": "GPU",
  "colab": {
   "collapsed_sections": [],
   "name": "Copy of Mask_RCNN.ipynb",
   "provenance": [],
   "toc_visible": true,
   "version": "0.3.2"
  },
  "kernelspec": {
   "display_name": "Python 3",
   "language": "python",
   "name": "python3"
  },
  "language_info": {
   "codemirror_mode": {
    "name": "ipython",
    "version": 3
   },
   "file_extension": ".py",
   "mimetype": "text/x-python",
   "name": "python",
   "nbconvert_exporter": "python",
   "pygments_lexer": "ipython3",
   "version": "3.5.2"
  }
 },
 "nbformat": 4,
 "nbformat_minor": 1
}
