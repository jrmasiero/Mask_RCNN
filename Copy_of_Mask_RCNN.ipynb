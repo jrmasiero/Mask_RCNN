{
 "cells": [
  {
   "cell_type": "markdown",
   "metadata": {
    "colab_type": "text",
    "id": "IIDafmcXSNns"
   },
   "source": [
    "An editted version of the demo notebook in https://github.com/matterport/Mask_RCNN"
   ]
  },
  {
   "cell_type": "markdown",
   "metadata": {
    "colab_type": "text",
    "id": "shQBS8Cd7qMr"
   },
   "source": [
    "# Install libraries"
   ]
  },
  {
   "cell_type": "code",
   "execution_count": 1,
   "metadata": {
    "colab": {
     "base_uri": "https://localhost:8080/",
     "height": 624
    },
    "colab_type": "code",
    "id": "N46-SNnB7kdT",
    "outputId": "0bfea2bc-e118-4aaa-e6d0-968ab012c1ab"
   },
   "outputs": [
    {
     "name": "stdout",
     "output_type": "stream",
     "text": [
      "Requirement already satisfied: imgaug in c:\\users\\joser\\appdata\\local\\programs\\python\\python37\\lib\\site-packages (0.2.9)\n",
      "Requirement already satisfied: scipy in c:\\users\\joser\\appdata\\local\\programs\\python\\python37\\lib\\site-packages (from imgaug) (1.3.0)\n",
      "Requirement already satisfied: scikit-image>=0.11.0 in c:\\users\\joser\\appdata\\local\\programs\\python\\python37\\lib\\site-packages (from imgaug) (0.15.0)\n",
      "Requirement already satisfied: six in c:\\users\\joser\\appdata\\local\\programs\\python\\python37\\lib\\site-packages (from imgaug) (1.12.0)\n",
      "Requirement already satisfied: numpy>=1.15.0 in c:\\users\\joser\\appdata\\local\\programs\\python\\python37\\lib\\site-packages (from imgaug) (1.16.4)\n",
      "Requirement already satisfied: imageio in c:\\users\\joser\\appdata\\local\\programs\\python\\python37\\lib\\site-packages (from imgaug) (2.5.0)\n",
      "Requirement already satisfied: Pillow in c:\\users\\joser\\appdata\\local\\programs\\python\\python37\\lib\\site-packages (from imgaug) (6.0.0)\n",
      "Requirement already satisfied: Shapely in c:\\users\\joser\\appdata\\local\\programs\\python\\python37\\lib\\site-packages (from imgaug) (1.6.4.post1)\n",
      "Requirement already satisfied: opencv-python in c:\\users\\joser\\appdata\\local\\programs\\python\\python37\\lib\\site-packages (from imgaug) (4.1.0.25)\n",
      "Requirement already satisfied: matplotlib in c:\\users\\joser\\appdata\\local\\programs\\python\\python37\\lib\\site-packages (from imgaug) (3.1.0)\n",
      "Requirement already satisfied: networkx>=2.0 in c:\\users\\joser\\appdata\\local\\programs\\python\\python37\\lib\\site-packages (from scikit-image>=0.11.0->imgaug) (2.3)\n",
      "Requirement already satisfied: PyWavelets>=0.4.0 in c:\\users\\joser\\appdata\\local\\programs\\python\\python37\\lib\\site-packages (from scikit-image>=0.11.0->imgaug) (1.0.3)\n",
      "Requirement already satisfied: python-dateutil>=2.1 in c:\\users\\joser\\appdata\\local\\programs\\python\\python37\\lib\\site-packages (from matplotlib->imgaug) (2.8.0)\n",
      "Requirement already satisfied: pyparsing!=2.0.4,!=2.1.2,!=2.1.6,>=2.0.1 in c:\\users\\joser\\appdata\\local\\programs\\python\\python37\\lib\\site-packages (from matplotlib->imgaug) (2.4.0)\n",
      "Requirement already satisfied: kiwisolver>=1.0.1 in c:\\users\\joser\\appdata\\local\\programs\\python\\python37\\lib\\site-packages (from matplotlib->imgaug) (1.1.0)\n",
      "Requirement already satisfied: cycler>=0.10 in c:\\users\\joser\\appdata\\local\\programs\\python\\python37\\lib\\site-packages (from matplotlib->imgaug) (0.10.0)\n",
      "Requirement already satisfied: decorator>=4.3.0 in c:\\users\\joser\\appdata\\local\\programs\\python\\python37\\lib\\site-packages (from networkx>=2.0->scikit-image>=0.11.0->imgaug) (4.4.0)\n",
      "Requirement already satisfied: setuptools in c:\\users\\joser\\appdata\\local\\programs\\python\\python37\\lib\\site-packages (from kiwisolver>=1.0.1->matplotlib->imgaug) (40.8.0)\n",
      "Requirement already satisfied: Cython in c:\\users\\joser\\appdata\\local\\programs\\python\\python37\\lib\\site-packages (0.29.10)\n",
      "Requirement already satisfied: pycocotools in c:\\users\\joser\\appdata\\local\\programs\\python\\python37\\lib\\site-packages (2.0)\n",
      "Collecting kaggle\n",
      "  Downloading https://files.pythonhosted.org/packages/f4/de/4f22073f3afa618976ee0721b0deb72b5cde2782057e04a815a6828b53f9/kaggle-1.5.4.tar.gz (54kB)\n",
      "Collecting urllib3<1.25,>=1.21.1 (from kaggle)\n",
      "  Downloading https://files.pythonhosted.org/packages/01/11/525b02e4acc0c747de8b6ccdab376331597c569c42ea66ab0a1dbd36eca2/urllib3-1.24.3-py2.py3-none-any.whl (118kB)\n",
      "Requirement already satisfied: six>=1.10 in c:\\users\\joser\\appdata\\local\\programs\\python\\python37\\lib\\site-packages (from kaggle) (1.12.0)\n",
      "Requirement already satisfied: certifi in c:\\users\\joser\\appdata\\local\\programs\\python\\python37\\lib\\site-packages (from kaggle) (2019.3.9)\n",
      "Requirement already satisfied: python-dateutil in c:\\users\\joser\\appdata\\local\\programs\\python\\python37\\lib\\site-packages (from kaggle) (2.8.0)\n",
      "Requirement already satisfied: requests in c:\\users\\joser\\appdata\\local\\programs\\python\\python37\\lib\\site-packages (from kaggle) (2.22.0)\n",
      "Collecting tqdm (from kaggle)\n",
      "  Downloading https://files.pythonhosted.org/packages/45/af/685bf3ce889ea191f3b916557f5677cc95a5e87b2fa120d74b5dd6d049d0/tqdm-4.32.1-py2.py3-none-any.whl (49kB)\n",
      "Collecting python-slugify (from kaggle)\n",
      "  Downloading https://files.pythonhosted.org/packages/c1/19/c3cf1dc65e89aa999f85a4a3a4924ccac765a6964b405d487b7b7c8bb39f/python-slugify-3.0.2.tar.gz\n",
      "Requirement already satisfied: chardet<3.1.0,>=3.0.2 in c:\\users\\joser\\appdata\\local\\programs\\python\\python37\\lib\\site-packages (from requests->kaggle) (3.0.4)\n",
      "Requirement already satisfied: idna<2.9,>=2.5 in c:\\users\\joser\\appdata\\local\\programs\\python\\python37\\lib\\site-packages (from requests->kaggle) (2.8)\n",
      "Collecting text-unidecode==1.2 (from python-slugify->kaggle)\n",
      "  Downloading https://files.pythonhosted.org/packages/79/42/d717cc2b4520fb09e45b344b1b0b4e81aa672001dd128c180fabc655c341/text_unidecode-1.2-py2.py3-none-any.whl (77kB)\n",
      "Building wheels for collected packages: kaggle, python-slugify\n",
      "  Building wheel for kaggle (setup.py): started\n",
      "  Building wheel for kaggle (setup.py): finished with status 'done'\n",
      "  Stored in directory: C:\\Users\\joser\\AppData\\Local\\pip\\Cache\\wheels\\87\\ea\\09\\173986e395d051411b9d547a69fe96cdc26208cb1bcc3e5567\n",
      "  Building wheel for python-slugify (setup.py): started\n",
      "  Building wheel for python-slugify (setup.py): finished with status 'done'\n",
      "  Stored in directory: C:\\Users\\joser\\AppData\\Local\\pip\\Cache\\wheels\\16\\7f\\c3\\6b0582283ad589d68a306da924a78c74546e010d8106b9b3a9\n",
      "Successfully built kaggle python-slugify\n",
      "Installing collected packages: urllib3, tqdm, text-unidecode, python-slugify, kaggle\n",
      "  Found existing installation: urllib3 1.25.3\n",
      "    Uninstalling urllib3-1.25.3:\n",
      "      Successfully uninstalled urllib3-1.25.3\n",
      "Successfully installed kaggle-1.5.4 python-slugify-3.0.2 text-unidecode-1.2 tqdm-4.32.1 urllib3-1.24.3\n",
      "Requirement already satisfied: pillow in c:\\users\\joser\\appdata\\local\\programs\\python\\python37\\lib\\site-packages (6.0.0)\n"
     ]
    }
   ],
   "source": [
    "!pip install imgaug\n",
    "!pip install Cython\n",
    "!pip install pycocotools\n",
    "!pip install kaggle\n",
    "!pip install pillow"
   ]
  },
  {
   "cell_type": "markdown",
   "metadata": {
    "colab_type": "text",
    "id": "9uB4cF2D7t_5"
   },
   "source": [
    "# Clone Repo"
   ]
  },
  {
   "cell_type": "code",
   "execution_count": 0,
   "metadata": {
    "colab": {},
    "colab_type": "code",
    "id": "65U460kq72Ai"
   },
   "outputs": [],
   "source": []
  },
  {
   "cell_type": "markdown",
   "metadata": {
    "colab_type": "text",
    "id": "9z09lA9CTiMf"
   },
   "source": [
    "Analisar fotos do meu repositorio\n"
   ]
  },
  {
   "cell_type": "code",
   "execution_count": 3,
   "metadata": {
    "colab": {
     "base_uri": "https://localhost:8080/",
     "height": 124
    },
    "colab_type": "code",
    "id": "ttgRcakjuQ4P",
    "outputId": "781a61ea-7294-4801-d5bd-978b47740fa7"
   },
   "outputs": [
    {
     "name": "stdout",
     "output_type": "stream",
     "text": [
      "Cloning into 'Mask_RCNN'...\n",
      "remote: Enumerating objects: 1275, done.\u001b[K\n",
      "remote: Total 1275 (delta 0), reused 0 (delta 0), pack-reused 1275\u001b[K\n",
      "Receiving objects: 100% (1275/1275), 582.78 MiB | 39.18 MiB/s, done.\n",
      "Resolving deltas: 100% (564/564), done.\n",
      "Checking out files: 100% (284/284), done.\n"
     ]
    }
   ],
   "source": [
    "!git clone https://github.com/jrmasiero/Mask_RCNN"
   ]
  },
  {
   "cell_type": "code",
   "execution_count": 5,
   "metadata": {
    "colab": {},
    "colab_type": "code",
    "id": "n2aH_LFLudLM"
   },
   "outputs": [],
   "source": [
    "import os \n",
    "os.chdir('C:/Users/joser/Documents/PROJETOS_DS_DBLab/Mask_RCNN/')\n",
    "\n"
   ]
  },
  {
   "cell_type": "markdown",
   "metadata": {
    "colab_type": "text",
    "id": "FyO_T7_h7xHq"
   },
   "source": [
    "# Prepare Model"
   ]
  },
  {
   "cell_type": "code",
   "execution_count": 80,
   "metadata": {
    "colab": {
     "base_uri": "https://localhost:8080/",
     "height": 71
    },
    "colab_type": "code",
    "id": "q3TqaKKzukha",
    "outputId": "f1b57611-f5da-4203-8b95-08007f78ea30"
   },
   "outputs": [],
   "source": [
    "import sys\n",
    "import random\n",
    "import math\n",
    "import numpy as np\n",
    "import skimage.io\n",
    "import matplotlib\n",
    "import matplotlib.pyplot as plt\n",
    "import pycocotools\n",
    "\n",
    "# Root directory of the project\n",
    "ROOT_DIR = os.path.abspath(\"../\")\n",
    "\n",
    "# Import Mask RCNN\n",
    "sys.path.append(ROOT_DIR)  # To find local version of the library\n",
    "from mrcnn import utils\n",
    "import mrcnn.model as modellib\n",
    "from mrcnn import visualize\n",
    "# Import COCO config\n",
    "sys.path.append(os.path.join(ROOT_DIR, \"samples/coco/\"))  # To find local version\n",
    "#import coco\n",
    "from samples.coco import coco\n",
    "\n",
    "%matplotlib inline \n",
    "\n",
    "# Directory to save logs and trained model\n",
    "MODEL_DIR = os.path.join(ROOT_DIR, \"logs\")\n",
    "\n",
    "# Local path to trained weights file\n",
    "COCO_MODEL_PATH = os.path.join(ROOT_DIR, \"mask_rcnn_coco.h5\")\n",
    "# Download COCO trained weights from Releases if needed\n",
    "if not os.path.exists(COCO_MODEL_PATH):\n",
    "    utils.download_trained_weights(COCO_MODEL_PATH)\n",
    "\n",
    "# Directory of images to run detection on\n",
    "IMAGE_DIR = os.path.join(ROOT_DIR, \"images\")"
   ]
  },
  {
   "cell_type": "markdown",
   "metadata": {
    "colab_type": "text",
    "id": "pRNzMHg08Uvn"
   },
   "source": [
    "# Create Inference Object"
   ]
  },
  {
   "cell_type": "code",
   "execution_count": 81,
   "metadata": {
    "colab": {},
    "colab_type": "code",
    "id": "x-SLKOPeu0PY"
   },
   "outputs": [],
   "source": [
    "class InferenceConfig(coco.CocoConfig):\n",
    "    # Set batch size to 1 since we'll be running inference on\n",
    "    # one image at a time. Batch size = GPU_COUNT * IMAGES_PER_GPU\n",
    "    GPU_COUNT = 1\n",
    "    IMAGES_PER_GPU = 1\n",
    "\n",
    "config = InferenceConfig()"
   ]
  },
  {
   "cell_type": "code",
   "execution_count": 82,
   "metadata": {
    "colab": {
     "base_uri": "https://localhost:8080/",
     "height": 144
    },
    "colab_type": "code",
    "id": "j-C88yeKvWaa",
    "outputId": "db072be8-d781-4fa0-bc52-578003d7dbfa"
   },
   "outputs": [],
   "source": [
    "\n",
    "\n",
    "# Create model object in inference mode.\n",
    "model = modellib.MaskRCNN(mode=\"inference\", model_dir=MODEL_DIR, config=config)\n",
    "\n",
    "# Load weights trained on MS-COCO\n",
    "model.load_weights(COCO_MODEL_PATH, by_name=True)\n",
    "\n"
   ]
  },
  {
   "cell_type": "code",
   "execution_count": 83,
   "metadata": {
    "colab": {},
    "colab_type": "code",
    "id": "2rEErre3vY5m"
   },
   "outputs": [],
   "source": [
    "# COCO Class names\n",
    "# Index of the class in the list is its ID. For example, to get ID of\n",
    "# the teddy bear class, use: class_names.index('teddy bear')\n",
    "class_names = ['BG', 'person', 'bicycle', 'car', 'motorcycle', 'airplane',\n",
    "               'bus', 'train', 'truck', 'boat', 'traffic light',\n",
    "               'fire hydrant', 'stop sign', 'parking meter', 'bench', 'bird',\n",
    "               'cat', 'dog', 'horse', 'sheep', 'cow', 'elephant', 'bear',\n",
    "               'zebra', 'giraffe', 'backpack', 'umbrella', 'handbag', 'tie',\n",
    "               'suitcase', 'frisbee', 'skis', 'snowboard', 'sports ball',\n",
    "               'kite', 'baseball bat', 'baseball glove', 'skateboard',\n",
    "               'surfboard', 'tennis racket', 'bottle', 'wine glass', 'cup',\n",
    "               'fork', 'knife', 'spoon', 'bowl', 'banana', 'apple',\n",
    "               'sandwich', 'orange', 'broccoli', 'carrot', 'hot dog', 'pizza',\n",
    "               'donut', 'cake', 'chair', 'couch', 'potted plant', 'bed',\n",
    "               'dining table', 'toilet', 'tv', 'laptop', 'mouse', 'remote',\n",
    "               'keyboard', 'cell phone', 'microwave', 'oven', 'toaster',\n",
    "               'sink', 'refrigerator', 'book', 'clock', 'vase', 'scissors',\n",
    "               'teddy bear', 'hair drier', 'toothbrush']"
   ]
  },
  {
   "cell_type": "markdown",
   "metadata": {
    "colab_type": "text",
    "id": "6PTdUjUC76A8"
   },
   "source": [
    "# Prediction and Visualization"
   ]
  },
  {
   "cell_type": "code",
   "execution_count": 39,
   "metadata": {
    "colab": {
     "base_uri": "https://localhost:8080/",
     "height": 35
    },
    "colab_type": "code",
    "id": "YBaILxtBPyBu",
    "outputId": "5f4f029e-f8ad-41a9-ca41-76d766feca98"
   },
   "outputs": [
    {
     "name": "stdout",
     "output_type": "stream",
     "text": [
      "done\n"
     ]
    }
   ],
   "source": [
    "\n",
    "\n",
    "\n",
    "coordenadas = np.empty([1, 5], dtype=int)\n",
    "\n",
    "\n",
    "#print(coordenadas.shape)\n",
    "\n",
    "for i in range(0,351):\n",
    "\n",
    "  path = 'images/prod_('+\"{}\".format(i)+').png'\n",
    "  image = skimage.io.imread(path)\n",
    "\n",
    "  # Run detection\n",
    "  results = model.detect([image], verbose=0)\n",
    "  #print('c',coordenadas)\n",
    "  # Visualize results\n",
    "  r = results[0]['rois']\n",
    "  \n",
    "  if r.shape == (1,4):\n",
    "    #print('r ',r)\n",
    "  \n",
    "  #print(b.shape)\n",
    "    b = np.empty([1, 5], dtype=int)\n",
    "    #print('b 0 ',b)\n",
    "  \n",
    "    b[0,:-1] = r\n",
    "  \n",
    "    #print('b 1 ',b)\n",
    "  \n",
    "    b[0,4] = i\n",
    "  \n",
    "    #print('b 2',b)\n",
    "  #print(np.asarray(r) is r)\n",
    "\n",
    "  #print('yMin:', r['rois'][0][0])\n",
    "  #print('xMin:', r['rois'][0][1])\n",
    "  #print('yMax:', r['rois'][0][2])\n",
    "  #print('xMax:', r['rois'][0][3])\n",
    "  #print(coordenadas)\n",
    "  \n",
    "  \n",
    "  coordenadas = np.append(coordenadas, b, axis=0)\n",
    "  \n",
    "  \n",
    "coordenadas = np.delete(coordenadas, 0, 0)\n",
    "np.savetxt(\"images/coord_garrafa.csv\", coordenadas, delimiter=\",\", fmt='%s')\n",
    "print(\"done\")\n",
    "#visualize.display_instances(image, r['rois'], r['masks'], r['class_ids'], \n",
    "#                            class_names, r['scores'])"
   ]
  },
  {
   "cell_type": "markdown",
   "metadata": {
    "colab_type": "text",
    "id": "15MmM7qjP4ZO"
   },
   "source": [
    "# Background Removal"
   ]
  },
  {
   "cell_type": "code",
   "execution_count": 84,
   "metadata": {},
   "outputs": [
    {
     "name": "stdout",
     "output_type": "stream",
     "text": [
      "Processing 1 images\n",
      "image                    shape: (640, 360, 3)         min:    0.00000  max:  255.00000  uint8\n",
      "molded_images            shape: (1, 1024, 1024, 3)    min: -123.70000  max:  148.10000  float64\n",
      "image_metas              shape: (1, 93)               min:    0.00000  max: 1024.00000  float64\n",
      "anchors                  shape: (1, 261888, 4)        min:   -0.35390  max:    1.29134  float32\n"
     ]
    },
    {
     "ename": "AttributeError",
     "evalue": "module 'mrcnn.visualize' has no attribute 'save_image'",
     "output_type": "error",
     "traceback": [
      "\u001b[1;31m---------------------------------------------------------------------------\u001b[0m",
      "\u001b[1;31mAttributeError\u001b[0m                            Traceback (most recent call last)",
      "\u001b[1;32m<ipython-input-84-03271bde42df>\u001b[0m in \u001b[0;36m<module>\u001b[1;34m\u001b[0m\n\u001b[0;32m     22\u001b[0m \u001b[1;31m#                          class_names, r['scores'])\u001b[0m\u001b[1;33m\u001b[0m\u001b[1;33m\u001b[0m\u001b[1;33m\u001b[0m\u001b[0m\n\u001b[0;32m     23\u001b[0m \u001b[1;33m\u001b[0m\u001b[0m\n\u001b[1;32m---> 24\u001b[1;33m visualize.save_image(image, r['rois'], r['masks'],\n\u001b[0m\u001b[0;32m     25\u001b[0m     \u001b[0mr\u001b[0m\u001b[1;33m[\u001b[0m\u001b[1;34m'class_ids'\u001b[0m\u001b[1;33m]\u001b[0m\u001b[1;33m,\u001b[0m\u001b[0mr\u001b[0m\u001b[1;33m[\u001b[0m\u001b[1;34m'scores'\u001b[0m\u001b[1;33m]\u001b[0m\u001b[1;33m,\u001b[0m\u001b[0mcoco_class_names\u001b[0m\u001b[1;33m,\u001b[0m\u001b[1;33m\u001b[0m\u001b[1;33m\u001b[0m\u001b[0m\n\u001b[0;32m     26\u001b[0m     filter_classs_names=['bottle', 'wine glass'],scores_thresh=0.9,mode=3)\n",
      "\u001b[1;31mAttributeError\u001b[0m: module 'mrcnn.visualize' has no attribute 'save_image'"
     ]
    }
   ],
   "source": [
    "# Load a random image from the images folder\n",
    "path = 'images/prod_(192).png'\n",
    "image = skimage.io.imread(path)\n",
    "#image = skimage.io.imread(os.path.join(IMAGE_DIR, random.choice(file_names)))\n",
    "\n",
    "# Run detection\n",
    "results = model.detect([image], verbose=1)\n",
    "\n",
    "# Visualize results\n",
    "r = results[0]\n",
    "\n",
    "#r['masks'].shape\n",
    "\n",
    "\n",
    "\n",
    "#print(r['masks'])\n",
    "\n",
    "#np.savetxt(\"images/coord_mascara.csv\", r['masks'], delimiter=\",\", fmt='%s')\n",
    "#print(done)\n",
    "\n",
    "#visualize.display_instances(image, r['rois'], r['masks'], r['class_ids'], \n",
    "#                          class_names, r['scores'])\n",
    "\n",
    "visualize.save_image(image, r['rois'], r['masks'],\n",
    "    r['class_ids'],r['scores'],coco_class_names,\n",
    "    filter_classs_names=['bottle', 'wine glass'],scores_thresh=0.9,mode=3)\n"
   ]
  }
 ],
 "metadata": {
  "accelerator": "GPU",
  "colab": {
   "collapsed_sections": [],
   "name": "Copy of Mask_RCNN.ipynb",
   "provenance": [],
   "toc_visible": true,
   "version": "0.3.2"
  },
  "kernelspec": {
   "display_name": "Python 3",
   "language": "python",
   "name": "python3"
  },
  "language_info": {
   "codemirror_mode": {
    "name": "ipython",
    "version": 3
   },
   "file_extension": ".py",
   "mimetype": "text/x-python",
   "name": "python",
   "nbconvert_exporter": "python",
   "pygments_lexer": "ipython3",
   "version": "3.7.3"
  }
 },
 "nbformat": 4,
 "nbformat_minor": 1
}
