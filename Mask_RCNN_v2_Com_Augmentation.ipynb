{
 "cells": [
  {
   "cell_type": "markdown",
   "metadata": {
    "colab_type": "text",
    "id": "9uB4cF2D7t_5"
   },
   "source": [
    "# Definir diretório raiz"
   ]
  },
  {
   "cell_type": "code",
   "execution_count": null,
   "metadata": {},
   "outputs": [],
   "source": [
    "!pip install imgaug\n",
    "!pip install Cython\n",
    "!pip install pycocotools\n",
    "!pip install kaggle\n",
    "!pip install pillow"
   ]
  },
  {
   "cell_type": "code",
   "execution_count": null,
   "metadata": {},
   "outputs": [],
   "source": [
    "#!pip install python3.6-tk\n",
    "#!pip install natsort\n",
    "#!pip install pandas\n",
    "#!pip install numpy\n",
    "#!pip install Pillow"
   ]
  },
  {
   "cell_type": "code",
   "execution_count": 1,
   "metadata": {
    "colab": {},
    "colab_type": "code",
    "id": "65U460kq72Ai"
   },
   "outputs": [
    {
     "name": "stdout",
     "output_type": "stream",
     "text": [
      "/home/dblab/projects/Mask_RCNN_v3_dataAug\n"
     ]
    }
   ],
   "source": [
    "from tkinter import filedialog\n",
    "from tkinter import *\n",
    "import os \n",
    "import pandas as pd\n",
    "from PIL import Image\n",
    "\n",
    "root = Tk()\n",
    "#root.filename =  filedialog.asksaveasfilename(initialdir = \"/\",title = \"Select file\",filetypes = ((\"jpeg files\",\"*.jpg\"),(\"all files\",\"*.*\")))\n",
    "root.dir_raiz = filedialog.askdirectory()\n",
    "print (root.dir_raiz)\n",
    "\n",
    "\n",
    "os.chdir(root.dir_raiz)\n",
    "\n",
    "\n"
   ]
  },
  {
   "cell_type": "markdown",
   "metadata": {},
   "source": [
    "# DEFFINIÇÂO DE Nome dos Arquivos E Quantidades"
   ]
  },
  {
   "cell_type": "code",
   "execution_count": 2,
   "metadata": {},
   "outputs": [
    {
     "name": "stdout",
     "output_type": "stream",
     "text": [
      "/home/dblab/projects/Mask_RCNN_v3_dataAug/images/garrafa_2\n"
     ]
    }
   ],
   "source": [
    "\n",
    "\n",
    "#root.filename =  filedialog.asksaveasfilename(initialdir = \"/\",title = \"Select file\",filetypes = ((\"jpeg files\",\"*.jpg\"),(\"all files\",\"*.*\")))\n",
    "root.filename = filedialog.askdirectory()\n",
    "print (root.filename)\n",
    "\n",
    "imagens_produto_path = root.filename + \"/\" \n",
    "nome_produto = root.filename.split(\"/\")\n",
    "nome_produto = nome_produto[len(nome_produto)-1]\n",
    "\n",
    "\n",
    "root.destroy()\n"
   ]
  },
  {
   "cell_type": "code",
   "execution_count": null,
   "metadata": {},
   "outputs": [],
   "source": [
    "#pip install natsort"
   ]
  },
  {
   "cell_type": "markdown",
   "metadata": {
    "colab_type": "text",
    "id": "9z09lA9CTiMf"
   },
   "source": [
    "# Analisar fotos do meu repositorio"
   ]
  },
  {
   "cell_type": "code",
   "execution_count": 4,
   "metadata": {},
   "outputs": [
    {
     "name": "stdout",
     "output_type": "stream",
     "text": [
      "['garrafa2(0).png', 'garrafa2(1).png', 'garrafa2(2).png', 'garrafa2(3).png', 'garrafa2(4).png', 'garrafa2(5).png', 'garrafa2(6).png', 'garrafa2(7).png', 'garrafa2(8).png', 'garrafa2(9).png', 'garrafa2(10).png', 'garrafa2(11).png', 'garrafa2(12).png', 'garrafa2(13).png', 'garrafa2(14).png', 'garrafa2(15).png', 'garrafa2(16).png', 'garrafa2(17).png', 'garrafa2(18).png', 'garrafa2(19).png', 'garrafa2(20).png', 'garrafa2(21).png', 'garrafa2(22).png', 'garrafa2(23).png', 'garrafa2(24).png', 'garrafa2(25).png', 'garrafa2(26).png', 'garrafa2(27).png', 'garrafa2(28).png', 'garrafa2(29).png', 'garrafa2(30).png', 'garrafa2(31).png', 'garrafa2(32).png', 'garrafa2(33).png', 'garrafa2(34).png', 'garrafa2(35).png', 'garrafa2(36).png', 'garrafa2(37).png', 'garrafa2(38).png', 'garrafa2(39).png', 'garrafa2(40).png', 'garrafa2(41).png', 'garrafa2(42).png', 'garrafa2(43).png', 'garrafa2(44).png', 'garrafa2(45).png', 'garrafa2(46).png', 'garrafa2(47).png', 'garrafa2(48).png', 'garrafa2(49).png', 'garrafa2(50).png', 'garrafa2(51).png', 'garrafa2(52).png', 'garrafa2(53).png', 'garrafa2(54).png', 'garrafa2(55).png', 'garrafa2(56).png', 'garrafa2(57).png', 'garrafa2(58).png', 'garrafa2(59).png', 'garrafa2(60).png', 'garrafa2(61).png', 'garrafa2(62).png', 'garrafa2(63).png', 'garrafa2(64).png', 'garrafa2(65).png', 'garrafa2(66).png', 'garrafa2(67).png', 'garrafa2(68).png', 'garrafa2(69).png', 'garrafa2(70).png', 'garrafa2(71).png', 'garrafa2(72).png', 'garrafa2(73).png', 'garrafa2(74).png', 'garrafa2(75).png', 'garrafa2(76).png', 'garrafa2(77).png', 'garrafa2(78).png', 'garrafa2(79).png', 'garrafa2(80).png', 'garrafa2(81).png', 'garrafa2(82).png', 'garrafa2(83).png', 'garrafa2(84).png', 'garrafa2(85).png', 'garrafa2(86).png', 'garrafa2(87).png', 'garrafa2(88).png', 'garrafa2(89).png', 'garrafa2(90).png', 'garrafa2(91).png', 'garrafa2(92).png', 'garrafa2(93).png', 'garrafa2(94).png', 'garrafa2(95).png', 'garrafa2(96).png', 'garrafa2(97).png', 'garrafa2(98).png', 'garrafa2(99).png', 'garrafa2(100).png', 'garrafa2(101).png', 'garrafa2(102).png', 'garrafa2(103).png', 'garrafa2(104).png', 'garrafa2(105).png', 'garrafa2(106).png', 'garrafa2(107).png', 'garrafa2(108).png', 'garrafa2(109).png', 'garrafa2(110).png', 'garrafa2(111).png', 'garrafa2(112).png', 'garrafa2(113).png', 'garrafa2(114).png', 'garrafa2(115).png', 'garrafa2(116).png', 'garrafa2(117).png', 'garrafa2(118).png', 'garrafa2(119).png', 'garrafa2(120).png', 'garrafa2(121).png', 'garrafa2(122).png', 'garrafa2(123).png', 'garrafa2(124).png', 'garrafa2(125).png', 'garrafa2(126).png', 'garrafa2(127).png', 'garrafa2(128).png', 'garrafa2(129).png', 'garrafa2(130).png', 'garrafa2(131).png', 'garrafa2(132).png', 'garrafa2(133).png', 'garrafa2(134).png', 'garrafa2(135).png', 'garrafa2(136).png', 'garrafa2(137).png', 'garrafa2(138).png', 'garrafa2(139).png', 'garrafa2(140).png', 'garrafa2(141).png', 'garrafa2(142).png', 'garrafa2(143).png', 'garrafa2(144).png', 'garrafa2(145).png', 'garrafa2(146).png', 'garrafa2(147).png', 'garrafa2(148).png', 'garrafa2(149).png', 'garrafa2(150).png', 'garrafa2(151).png', 'garrafa2(152).png', 'garrafa2(153).png', 'garrafa2(154).png', 'garrafa2(155).png', 'garrafa2(156).png', 'garrafa2(157).png', 'garrafa2(158).png', 'garrafa2(159).png', 'garrafa2(160).png', 'garrafa2(161).png', 'garrafa2(162).png', 'garrafa2(163).png', 'garrafa2(164).png', 'garrafa2(165).png', 'garrafa2(166).png', 'garrafa2(167).png', 'garrafa2(168).png', 'garrafa2(169).png', 'garrafa2(170).png', 'garrafa2(171).png', 'garrafa2(172).png', 'garrafa2(173).png', 'garrafa2(174).png', 'garrafa2(175).png', 'garrafa2(176).png', 'garrafa2(177).png', 'garrafa2(178).png', 'garrafa2(179).png', 'garrafa2(180).png', 'garrafa2(181).png', 'garrafa2(182).png', 'garrafa2(183).png', 'garrafa2(184).png', 'garrafa2(185).png']\n"
     ]
    }
   ],
   "source": [
    "from os import listdir\n",
    "from os.path import isfile, join\n",
    "from natsort import natsorted\n",
    "\n",
    "arquivos_imagens = [f for f in natsorted(listdir(imagens_produto_path)) if isfile(join(imagens_produto_path, f))]\n",
    "\n",
    "print(arquivos_imagens)\n"
   ]
  },
  {
   "cell_type": "markdown",
   "metadata": {
    "colab_type": "text",
    "id": "FyO_T7_h7xHq"
   },
   "source": [
    "# Prepare Model"
   ]
  },
  {
   "cell_type": "code",
   "execution_count": 12,
   "metadata": {
    "colab": {
     "base_uri": "https://localhost:8080/",
     "height": 71
    },
    "colab_type": "code",
    "id": "q3TqaKKzukha",
    "outputId": "f1b57611-f5da-4203-8b95-08007f78ea30"
   },
   "outputs": [
    {
     "name": "stdout",
     "output_type": "stream",
     "text": [
      "/home/dblab/projects/Mask_RCNN_v3_dataAug\n",
      "Downloading pretrained model to /home/dblab/projects/mask_rcnn_coco.h5 ...\n",
      "... done downloading pretrained model!\n"
     ]
    }
   ],
   "source": [
    "import sys\n",
    "import random\n",
    "import math\n",
    "import numpy as np\n",
    "\n",
    "import skimage.io\n",
    "import matplotlib\n",
    "import matplotlib.pyplot as plt\n",
    "import pycocotools\n",
    "\n",
    "# Root directory of the project\n",
    "#ROOT_DIR = os.path.abspath(\"../\")\n",
    "#print(ROOT_DIR)\n",
    "ROOT_DIR = root.dir_raiz\n",
    "print(ROOT_DIR)\n",
    "# Import Mask RCNN\n",
    "sys.path.append(ROOT_DIR)  # To find local version of the library\n",
    "from mrcnn import utils\n",
    "import mrcnn.model as modellib\n",
    "from mrcnn import visualize\n",
    "# Import COCO config\n",
    "sys.path.append(os.path.join(ROOT_DIR, \"samples/coco/\"))  # To find local version\n",
    "#import coco\n",
    "from samples.coco import coco\n",
    "\n",
    "%matplotlib inline \n",
    "\n",
    "# Directory to save logs and trained model\n",
    "MODEL_DIR = os.path.join(ROOT_DIR, \"logs\")\n",
    "\n",
    "# Local path to trained weights file\n",
    "#COCO_MODEL_PATH = os.path.join(ROOT_DIR, \"mask_rcnn_coco.h5\")\n",
    "\n",
    "# Download COCO trained weights from Releases if needed\n",
    "#if not os.path.exists(COCO_MODEL_PATH):\n",
    "utils.download_trained_weights(COCO_MODEL_PATH)\n",
    "\n",
    "# Directory of images to run detection on\n",
    "IMAGE_DIR = imagens_produto_path;"
   ]
  },
  {
   "cell_type": "markdown",
   "metadata": {
    "colab_type": "text",
    "id": "pRNzMHg08Uvn"
   },
   "source": [
    "# Create Inference Object"
   ]
  },
  {
   "cell_type": "code",
   "execution_count": 13,
   "metadata": {
    "colab": {},
    "colab_type": "code",
    "id": "x-SLKOPeu0PY"
   },
   "outputs": [],
   "source": [
    "class InferenceConfig(coco.CocoConfig):\n",
    "    # Set batch size to 1 since we'll be running inference on\n",
    "    # one image at a time. Batch size = GPU_COUNT * IMAGES_PER_GPU\n",
    "    GPU_COUNT = 1\n",
    "    IMAGES_PER_GPU = 1\n",
    "\n",
    "config = InferenceConfig()"
   ]
  },
  {
   "cell_type": "code",
   "execution_count": 14,
   "metadata": {
    "colab": {
     "base_uri": "https://localhost:8080/",
     "height": 144
    },
    "colab_type": "code",
    "id": "j-C88yeKvWaa",
    "outputId": "db072be8-d781-4fa0-bc52-578003d7dbfa"
   },
   "outputs": [
    {
     "name": "stdout",
     "output_type": "stream",
     "text": [
      "/home/dblab/projects/Mask_RCNN_v3_dataAug/logs\n",
      "/home/dblab/projects/mask_rcnn_coco.h5\n"
     ]
    }
   ],
   "source": [
    "\n",
    "\n",
    "# Create model object in inference mode.\n",
    "model = modellib.MaskRCNN(mode=\"inference\", model_dir=MODEL_DIR, config=config)\n",
    "\n",
    "print(MODEL_DIR)\n",
    "print(COCO_MODEL_PATH)\n",
    "# Load weights trained on MS-COCO\n",
    "model.load_weights(COCO_MODEL_PATH, by_name=True)\n",
    "\n"
   ]
  },
  {
   "cell_type": "code",
   "execution_count": 15,
   "metadata": {
    "colab": {},
    "colab_type": "code",
    "id": "2rEErre3vY5m"
   },
   "outputs": [],
   "source": [
    "# COCO Class names\n",
    "# Index of the class in the list is its ID. For example, to get ID of\n",
    "# the teddy bear class, use: class_names.index('teddy bear')\n",
    "class_names = ['BG', 'person', 'bicycle', 'car', 'motorcycle', 'airplane',\n",
    "               'bus', 'train', 'truck', 'boat', 'traffic light',\n",
    "               'fire hydrant', 'stop sign', 'parking meter', 'bench', 'bird',\n",
    "               'cat', 'dog', 'horse', 'sheep', 'cow', 'elephant', 'bear',\n",
    "               'zebra', 'giraffe', 'backpack', 'umbrella', 'handbag', 'tie',\n",
    "               'suitcase', 'frisbee', 'skis', 'snowboard', 'sports ball',\n",
    "               'kite', 'baseball bat', 'baseball glove', 'skateboard',\n",
    "               'surfboard', 'tennis racket', 'bottle', 'wine glass', 'cup',\n",
    "               'fork', 'knife', 'spoon', 'bowl', 'banana', 'apple',\n",
    "               'sandwich', 'orange', 'broccoli', 'carrot', 'hot dog', 'pizza',\n",
    "               'donut', 'cake', 'chair', 'couch', 'potted plant', 'bed',\n",
    "               'dining table', 'toilet', 'tv', 'laptop', 'mouse', 'remote',\n",
    "               'keyboard', 'cell phone', 'microwave', 'oven', 'toaster',\n",
    "               'sink', 'refrigerator', 'book', 'clock', 'vase', 'scissors',\n",
    "               'teddy bear', 'hair drier', 'toothbrush']"
   ]
  },
  {
   "cell_type": "markdown",
   "metadata": {
    "colab_type": "text",
    "id": "6PTdUjUC76A8"
   },
   "source": [
    "# Prediction and Visualization"
   ]
  },
  {
   "cell_type": "markdown",
   "metadata": {},
   "source": [
    "# Cria diretorio com nome do produto na Pasta de OUTPUT das mascaras e coordenadas"
   ]
  },
  {
   "cell_type": "code",
   "execution_count": 16,
   "metadata": {},
   "outputs": [
    {
     "name": "stdout",
     "output_type": "stream",
     "text": [
      "Successfully created the directory output/garrafa_2 \n"
     ]
    }
   ],
   "source": [
    "path = \"output/\"+nome_produto\n",
    "\n",
    "try:  \n",
    "    os.mkdir(path)\n",
    "except OSError:  \n",
    "    print (\"Creation of the directory %s failed\" % path)\n",
    "else:  \n",
    "    print (\"Successfully created the directory %s \" % path)"
   ]
  },
  {
   "cell_type": "markdown",
   "metadata": {},
   "source": [
    "# Importando métodos para Data Augmentation "
   ]
  },
  {
   "cell_type": "code",
   "execution_count": 17,
   "metadata": {},
   "outputs": [],
   "source": [
    "import imageio\n",
    "import imgaug as ia\n",
    "from imgaug.augmentables.bbs import BoundingBox, BoundingBoxesOnImage\n",
    "from imgaug import augmenters as iaa \n",
    "%matplotlib inline\n",
    "ia.seed(1)\n",
    "\n",
    "#image = imageio.imread(filename)\n",
    "#image = ia.imresize_single_image(image, (298, 447))\n",
    "\n",
    "#xmin = 127\n",
    "#xmax = 237\n",
    "#ymin = 104\n",
    "#ymax = 437\n",
    "\n",
    "\n",
    "#ia.imshow(bbs.draw_on_image(image, size=2))"
   ]
  },
  {
   "cell_type": "markdown",
   "metadata": {},
   "source": [
    "# Passa as imagens de produto da pasta para gerar coordenas e mascaras"
   ]
  },
  {
   "cell_type": "code",
   "execution_count": 18,
   "metadata": {
    "colab": {
     "base_uri": "https://localhost:8080/",
     "height": 35
    },
    "colab_type": "code",
    "id": "YBaILxtBPyBu",
    "outputId": "5f4f029e-f8ad-41a9-ca41-76d766feca98"
   },
   "outputs": [
    {
     "name": "stdout",
     "output_type": "stream",
     "text": [
      "/home/dblab/projects/Mask_RCNN_v3_dataAug/images/garrafa_2/garrafa2(0).png\n",
      "/home/dblab/projects/Mask_RCNN_v3_dataAug/images/garrafa_2/garrafa2(1).png\n",
      "/home/dblab/projects/Mask_RCNN_v3_dataAug/images/garrafa_2/garrafa2(2).png\n",
      "/home/dblab/projects/Mask_RCNN_v3_dataAug/images/garrafa_2/garrafa2(3).png\n",
      "/home/dblab/projects/Mask_RCNN_v3_dataAug/images/garrafa_2/garrafa2(4).png\n",
      "/home/dblab/projects/Mask_RCNN_v3_dataAug/images/garrafa_2/garrafa2(5).png\n",
      "/home/dblab/projects/Mask_RCNN_v3_dataAug/images/garrafa_2/garrafa2(6).png\n",
      "/home/dblab/projects/Mask_RCNN_v3_dataAug/images/garrafa_2/garrafa2(7).png\n",
      "/home/dblab/projects/Mask_RCNN_v3_dataAug/images/garrafa_2/garrafa2(8).png\n",
      "/home/dblab/projects/Mask_RCNN_v3_dataAug/images/garrafa_2/garrafa2(9).png\n",
      "/home/dblab/projects/Mask_RCNN_v3_dataAug/images/garrafa_2/garrafa2(10).png\n",
      "/home/dblab/projects/Mask_RCNN_v3_dataAug/images/garrafa_2/garrafa2(11).png\n",
      "/home/dblab/projects/Mask_RCNN_v3_dataAug/images/garrafa_2/garrafa2(12).png\n",
      "/home/dblab/projects/Mask_RCNN_v3_dataAug/images/garrafa_2/garrafa2(13).png\n",
      "/home/dblab/projects/Mask_RCNN_v3_dataAug/images/garrafa_2/garrafa2(14).png\n",
      "/home/dblab/projects/Mask_RCNN_v3_dataAug/images/garrafa_2/garrafa2(15).png\n",
      "/home/dblab/projects/Mask_RCNN_v3_dataAug/images/garrafa_2/garrafa2(16).png\n",
      "/home/dblab/projects/Mask_RCNN_v3_dataAug/images/garrafa_2/garrafa2(17).png\n",
      "/home/dblab/projects/Mask_RCNN_v3_dataAug/images/garrafa_2/garrafa2(18).png\n",
      "/home/dblab/projects/Mask_RCNN_v3_dataAug/images/garrafa_2/garrafa2(19).png\n",
      "/home/dblab/projects/Mask_RCNN_v3_dataAug/images/garrafa_2/garrafa2(20).png\n",
      "/home/dblab/projects/Mask_RCNN_v3_dataAug/images/garrafa_2/garrafa2(21).png\n",
      "/home/dblab/projects/Mask_RCNN_v3_dataAug/images/garrafa_2/garrafa2(22).png\n",
      "/home/dblab/projects/Mask_RCNN_v3_dataAug/images/garrafa_2/garrafa2(23).png\n",
      "/home/dblab/projects/Mask_RCNN_v3_dataAug/images/garrafa_2/garrafa2(24).png\n",
      "/home/dblab/projects/Mask_RCNN_v3_dataAug/images/garrafa_2/garrafa2(25).png\n",
      "/home/dblab/projects/Mask_RCNN_v3_dataAug/images/garrafa_2/garrafa2(26).png\n",
      "/home/dblab/projects/Mask_RCNN_v3_dataAug/images/garrafa_2/garrafa2(27).png\n",
      "/home/dblab/projects/Mask_RCNN_v3_dataAug/images/garrafa_2/garrafa2(28).png\n",
      "/home/dblab/projects/Mask_RCNN_v3_dataAug/images/garrafa_2/garrafa2(29).png\n",
      "/home/dblab/projects/Mask_RCNN_v3_dataAug/images/garrafa_2/garrafa2(30).png\n",
      "/home/dblab/projects/Mask_RCNN_v3_dataAug/images/garrafa_2/garrafa2(31).png\n",
      "/home/dblab/projects/Mask_RCNN_v3_dataAug/images/garrafa_2/garrafa2(32).png\n",
      "/home/dblab/projects/Mask_RCNN_v3_dataAug/images/garrafa_2/garrafa2(33).png\n",
      "/home/dblab/projects/Mask_RCNN_v3_dataAug/images/garrafa_2/garrafa2(34).png\n",
      "/home/dblab/projects/Mask_RCNN_v3_dataAug/images/garrafa_2/garrafa2(35).png\n",
      "/home/dblab/projects/Mask_RCNN_v3_dataAug/images/garrafa_2/garrafa2(36).png\n",
      "/home/dblab/projects/Mask_RCNN_v3_dataAug/images/garrafa_2/garrafa2(37).png\n",
      "/home/dblab/projects/Mask_RCNN_v3_dataAug/images/garrafa_2/garrafa2(38).png\n",
      "/home/dblab/projects/Mask_RCNN_v3_dataAug/images/garrafa_2/garrafa2(39).png\n",
      "/home/dblab/projects/Mask_RCNN_v3_dataAug/images/garrafa_2/garrafa2(40).png\n",
      "/home/dblab/projects/Mask_RCNN_v3_dataAug/images/garrafa_2/garrafa2(41).png\n",
      "/home/dblab/projects/Mask_RCNN_v3_dataAug/images/garrafa_2/garrafa2(42).png\n",
      "/home/dblab/projects/Mask_RCNN_v3_dataAug/images/garrafa_2/garrafa2(43).png\n",
      "/home/dblab/projects/Mask_RCNN_v3_dataAug/images/garrafa_2/garrafa2(44).png\n",
      "/home/dblab/projects/Mask_RCNN_v3_dataAug/images/garrafa_2/garrafa2(45).png\n",
      "/home/dblab/projects/Mask_RCNN_v3_dataAug/images/garrafa_2/garrafa2(46).png\n",
      "/home/dblab/projects/Mask_RCNN_v3_dataAug/images/garrafa_2/garrafa2(47).png\n",
      "/home/dblab/projects/Mask_RCNN_v3_dataAug/images/garrafa_2/garrafa2(48).png\n",
      "/home/dblab/projects/Mask_RCNN_v3_dataAug/images/garrafa_2/garrafa2(49).png\n",
      "/home/dblab/projects/Mask_RCNN_v3_dataAug/images/garrafa_2/garrafa2(50).png\n",
      "/home/dblab/projects/Mask_RCNN_v3_dataAug/images/garrafa_2/garrafa2(51).png\n",
      "/home/dblab/projects/Mask_RCNN_v3_dataAug/images/garrafa_2/garrafa2(52).png\n",
      "/home/dblab/projects/Mask_RCNN_v3_dataAug/images/garrafa_2/garrafa2(53).png\n",
      "/home/dblab/projects/Mask_RCNN_v3_dataAug/images/garrafa_2/garrafa2(54).png\n",
      "/home/dblab/projects/Mask_RCNN_v3_dataAug/images/garrafa_2/garrafa2(55).png\n",
      "/home/dblab/projects/Mask_RCNN_v3_dataAug/images/garrafa_2/garrafa2(56).png\n",
      "/home/dblab/projects/Mask_RCNN_v3_dataAug/images/garrafa_2/garrafa2(57).png\n",
      "/home/dblab/projects/Mask_RCNN_v3_dataAug/images/garrafa_2/garrafa2(58).png\n",
      "/home/dblab/projects/Mask_RCNN_v3_dataAug/images/garrafa_2/garrafa2(59).png\n",
      "/home/dblab/projects/Mask_RCNN_v3_dataAug/images/garrafa_2/garrafa2(60).png\n",
      "/home/dblab/projects/Mask_RCNN_v3_dataAug/images/garrafa_2/garrafa2(61).png\n",
      "/home/dblab/projects/Mask_RCNN_v3_dataAug/images/garrafa_2/garrafa2(62).png\n",
      "/home/dblab/projects/Mask_RCNN_v3_dataAug/images/garrafa_2/garrafa2(63).png\n",
      "/home/dblab/projects/Mask_RCNN_v3_dataAug/images/garrafa_2/garrafa2(64).png\n",
      "/home/dblab/projects/Mask_RCNN_v3_dataAug/images/garrafa_2/garrafa2(65).png\n",
      "/home/dblab/projects/Mask_RCNN_v3_dataAug/images/garrafa_2/garrafa2(66).png\n",
      "/home/dblab/projects/Mask_RCNN_v3_dataAug/images/garrafa_2/garrafa2(67).png\n",
      "/home/dblab/projects/Mask_RCNN_v3_dataAug/images/garrafa_2/garrafa2(68).png\n",
      "/home/dblab/projects/Mask_RCNN_v3_dataAug/images/garrafa_2/garrafa2(69).png\n",
      "/home/dblab/projects/Mask_RCNN_v3_dataAug/images/garrafa_2/garrafa2(70).png\n",
      "/home/dblab/projects/Mask_RCNN_v3_dataAug/images/garrafa_2/garrafa2(71).png\n",
      "/home/dblab/projects/Mask_RCNN_v3_dataAug/images/garrafa_2/garrafa2(72).png\n",
      "/home/dblab/projects/Mask_RCNN_v3_dataAug/images/garrafa_2/garrafa2(73).png\n",
      "/home/dblab/projects/Mask_RCNN_v3_dataAug/images/garrafa_2/garrafa2(74).png\n",
      "/home/dblab/projects/Mask_RCNN_v3_dataAug/images/garrafa_2/garrafa2(75).png\n",
      "/home/dblab/projects/Mask_RCNN_v3_dataAug/images/garrafa_2/garrafa2(76).png\n",
      "/home/dblab/projects/Mask_RCNN_v3_dataAug/images/garrafa_2/garrafa2(77).png\n",
      "/home/dblab/projects/Mask_RCNN_v3_dataAug/images/garrafa_2/garrafa2(78).png\n",
      "/home/dblab/projects/Mask_RCNN_v3_dataAug/images/garrafa_2/garrafa2(79).png\n",
      "/home/dblab/projects/Mask_RCNN_v3_dataAug/images/garrafa_2/garrafa2(80).png\n",
      "/home/dblab/projects/Mask_RCNN_v3_dataAug/images/garrafa_2/garrafa2(81).png\n",
      "/home/dblab/projects/Mask_RCNN_v3_dataAug/images/garrafa_2/garrafa2(82).png\n",
      "/home/dblab/projects/Mask_RCNN_v3_dataAug/images/garrafa_2/garrafa2(83).png\n",
      "/home/dblab/projects/Mask_RCNN_v3_dataAug/images/garrafa_2/garrafa2(84).png\n",
      "/home/dblab/projects/Mask_RCNN_v3_dataAug/images/garrafa_2/garrafa2(85).png\n",
      "/home/dblab/projects/Mask_RCNN_v3_dataAug/images/garrafa_2/garrafa2(86).png\n",
      "/home/dblab/projects/Mask_RCNN_v3_dataAug/images/garrafa_2/garrafa2(87).png\n",
      "/home/dblab/projects/Mask_RCNN_v3_dataAug/images/garrafa_2/garrafa2(88).png\n",
      "/home/dblab/projects/Mask_RCNN_v3_dataAug/images/garrafa_2/garrafa2(89).png\n",
      "/home/dblab/projects/Mask_RCNN_v3_dataAug/images/garrafa_2/garrafa2(90).png\n",
      "/home/dblab/projects/Mask_RCNN_v3_dataAug/images/garrafa_2/garrafa2(91).png\n",
      "/home/dblab/projects/Mask_RCNN_v3_dataAug/images/garrafa_2/garrafa2(92).png\n",
      "/home/dblab/projects/Mask_RCNN_v3_dataAug/images/garrafa_2/garrafa2(93).png\n",
      "/home/dblab/projects/Mask_RCNN_v3_dataAug/images/garrafa_2/garrafa2(94).png\n",
      "/home/dblab/projects/Mask_RCNN_v3_dataAug/images/garrafa_2/garrafa2(95).png\n",
      "/home/dblab/projects/Mask_RCNN_v3_dataAug/images/garrafa_2/garrafa2(96).png\n",
      "/home/dblab/projects/Mask_RCNN_v3_dataAug/images/garrafa_2/garrafa2(97).png\n",
      "/home/dblab/projects/Mask_RCNN_v3_dataAug/images/garrafa_2/garrafa2(98).png\n",
      "/home/dblab/projects/Mask_RCNN_v3_dataAug/images/garrafa_2/garrafa2(99).png\n",
      "/home/dblab/projects/Mask_RCNN_v3_dataAug/images/garrafa_2/garrafa2(100).png\n",
      "/home/dblab/projects/Mask_RCNN_v3_dataAug/images/garrafa_2/garrafa2(101).png\n",
      "/home/dblab/projects/Mask_RCNN_v3_dataAug/images/garrafa_2/garrafa2(102).png\n",
      "/home/dblab/projects/Mask_RCNN_v3_dataAug/images/garrafa_2/garrafa2(103).png\n",
      "/home/dblab/projects/Mask_RCNN_v3_dataAug/images/garrafa_2/garrafa2(104).png\n",
      "/home/dblab/projects/Mask_RCNN_v3_dataAug/images/garrafa_2/garrafa2(105).png\n",
      "/home/dblab/projects/Mask_RCNN_v3_dataAug/images/garrafa_2/garrafa2(106).png\n",
      "/home/dblab/projects/Mask_RCNN_v3_dataAug/images/garrafa_2/garrafa2(107).png\n"
     ]
    },
    {
     "name": "stdout",
     "output_type": "stream",
     "text": [
      "/home/dblab/projects/Mask_RCNN_v3_dataAug/images/garrafa_2/garrafa2(108).png\n",
      "/home/dblab/projects/Mask_RCNN_v3_dataAug/images/garrafa_2/garrafa2(109).png\n",
      "/home/dblab/projects/Mask_RCNN_v3_dataAug/images/garrafa_2/garrafa2(110).png\n",
      "/home/dblab/projects/Mask_RCNN_v3_dataAug/images/garrafa_2/garrafa2(111).png\n",
      "/home/dblab/projects/Mask_RCNN_v3_dataAug/images/garrafa_2/garrafa2(112).png\n",
      "/home/dblab/projects/Mask_RCNN_v3_dataAug/images/garrafa_2/garrafa2(113).png\n",
      "/home/dblab/projects/Mask_RCNN_v3_dataAug/images/garrafa_2/garrafa2(114).png\n",
      "/home/dblab/projects/Mask_RCNN_v3_dataAug/images/garrafa_2/garrafa2(115).png\n",
      "/home/dblab/projects/Mask_RCNN_v3_dataAug/images/garrafa_2/garrafa2(116).png\n",
      "/home/dblab/projects/Mask_RCNN_v3_dataAug/images/garrafa_2/garrafa2(117).png\n",
      "/home/dblab/projects/Mask_RCNN_v3_dataAug/images/garrafa_2/garrafa2(118).png\n",
      "/home/dblab/projects/Mask_RCNN_v3_dataAug/images/garrafa_2/garrafa2(119).png\n",
      "/home/dblab/projects/Mask_RCNN_v3_dataAug/images/garrafa_2/garrafa2(120).png\n",
      "/home/dblab/projects/Mask_RCNN_v3_dataAug/images/garrafa_2/garrafa2(121).png\n",
      "/home/dblab/projects/Mask_RCNN_v3_dataAug/images/garrafa_2/garrafa2(122).png\n",
      "/home/dblab/projects/Mask_RCNN_v3_dataAug/images/garrafa_2/garrafa2(123).png\n",
      "/home/dblab/projects/Mask_RCNN_v3_dataAug/images/garrafa_2/garrafa2(124).png\n",
      "/home/dblab/projects/Mask_RCNN_v3_dataAug/images/garrafa_2/garrafa2(125).png\n",
      "/home/dblab/projects/Mask_RCNN_v3_dataAug/images/garrafa_2/garrafa2(126).png\n",
      "/home/dblab/projects/Mask_RCNN_v3_dataAug/images/garrafa_2/garrafa2(127).png\n",
      "/home/dblab/projects/Mask_RCNN_v3_dataAug/images/garrafa_2/garrafa2(128).png\n",
      "/home/dblab/projects/Mask_RCNN_v3_dataAug/images/garrafa_2/garrafa2(129).png\n",
      "/home/dblab/projects/Mask_RCNN_v3_dataAug/images/garrafa_2/garrafa2(130).png\n",
      "/home/dblab/projects/Mask_RCNN_v3_dataAug/images/garrafa_2/garrafa2(131).png\n",
      "/home/dblab/projects/Mask_RCNN_v3_dataAug/images/garrafa_2/garrafa2(132).png\n",
      "/home/dblab/projects/Mask_RCNN_v3_dataAug/images/garrafa_2/garrafa2(133).png\n",
      "/home/dblab/projects/Mask_RCNN_v3_dataAug/images/garrafa_2/garrafa2(134).png\n",
      "/home/dblab/projects/Mask_RCNN_v3_dataAug/images/garrafa_2/garrafa2(135).png\n",
      "/home/dblab/projects/Mask_RCNN_v3_dataAug/images/garrafa_2/garrafa2(136).png\n",
      "/home/dblab/projects/Mask_RCNN_v3_dataAug/images/garrafa_2/garrafa2(137).png\n",
      "/home/dblab/projects/Mask_RCNN_v3_dataAug/images/garrafa_2/garrafa2(138).png\n",
      "/home/dblab/projects/Mask_RCNN_v3_dataAug/images/garrafa_2/garrafa2(139).png\n",
      "/home/dblab/projects/Mask_RCNN_v3_dataAug/images/garrafa_2/garrafa2(140).png\n",
      "/home/dblab/projects/Mask_RCNN_v3_dataAug/images/garrafa_2/garrafa2(141).png\n",
      "/home/dblab/projects/Mask_RCNN_v3_dataAug/images/garrafa_2/garrafa2(142).png\n",
      "/home/dblab/projects/Mask_RCNN_v3_dataAug/images/garrafa_2/garrafa2(143).png\n",
      "/home/dblab/projects/Mask_RCNN_v3_dataAug/images/garrafa_2/garrafa2(144).png\n",
      "/home/dblab/projects/Mask_RCNN_v3_dataAug/images/garrafa_2/garrafa2(145).png\n",
      "/home/dblab/projects/Mask_RCNN_v3_dataAug/images/garrafa_2/garrafa2(146).png\n",
      "/home/dblab/projects/Mask_RCNN_v3_dataAug/images/garrafa_2/garrafa2(147).png\n",
      "/home/dblab/projects/Mask_RCNN_v3_dataAug/images/garrafa_2/garrafa2(148).png\n",
      "/home/dblab/projects/Mask_RCNN_v3_dataAug/images/garrafa_2/garrafa2(149).png\n",
      "/home/dblab/projects/Mask_RCNN_v3_dataAug/images/garrafa_2/garrafa2(150).png\n",
      "/home/dblab/projects/Mask_RCNN_v3_dataAug/images/garrafa_2/garrafa2(151).png\n",
      "/home/dblab/projects/Mask_RCNN_v3_dataAug/images/garrafa_2/garrafa2(152).png\n",
      "/home/dblab/projects/Mask_RCNN_v3_dataAug/images/garrafa_2/garrafa2(153).png\n",
      "/home/dblab/projects/Mask_RCNN_v3_dataAug/images/garrafa_2/garrafa2(154).png\n",
      "/home/dblab/projects/Mask_RCNN_v3_dataAug/images/garrafa_2/garrafa2(155).png\n",
      "/home/dblab/projects/Mask_RCNN_v3_dataAug/images/garrafa_2/garrafa2(156).png\n",
      "/home/dblab/projects/Mask_RCNN_v3_dataAug/images/garrafa_2/garrafa2(157).png\n",
      "/home/dblab/projects/Mask_RCNN_v3_dataAug/images/garrafa_2/garrafa2(158).png\n",
      "/home/dblab/projects/Mask_RCNN_v3_dataAug/images/garrafa_2/garrafa2(159).png\n",
      "/home/dblab/projects/Mask_RCNN_v3_dataAug/images/garrafa_2/garrafa2(160).png\n",
      "/home/dblab/projects/Mask_RCNN_v3_dataAug/images/garrafa_2/garrafa2(161).png\n",
      "/home/dblab/projects/Mask_RCNN_v3_dataAug/images/garrafa_2/garrafa2(162).png\n",
      "/home/dblab/projects/Mask_RCNN_v3_dataAug/images/garrafa_2/garrafa2(163).png\n",
      "/home/dblab/projects/Mask_RCNN_v3_dataAug/images/garrafa_2/garrafa2(164).png\n",
      "/home/dblab/projects/Mask_RCNN_v3_dataAug/images/garrafa_2/garrafa2(165).png\n",
      "/home/dblab/projects/Mask_RCNN_v3_dataAug/images/garrafa_2/garrafa2(166).png\n",
      "/home/dblab/projects/Mask_RCNN_v3_dataAug/images/garrafa_2/garrafa2(167).png\n",
      "/home/dblab/projects/Mask_RCNN_v3_dataAug/images/garrafa_2/garrafa2(168).png\n",
      "/home/dblab/projects/Mask_RCNN_v3_dataAug/images/garrafa_2/garrafa2(169).png\n",
      "/home/dblab/projects/Mask_RCNN_v3_dataAug/images/garrafa_2/garrafa2(170).png\n",
      "/home/dblab/projects/Mask_RCNN_v3_dataAug/images/garrafa_2/garrafa2(171).png\n",
      "/home/dblab/projects/Mask_RCNN_v3_dataAug/images/garrafa_2/garrafa2(172).png\n",
      "/home/dblab/projects/Mask_RCNN_v3_dataAug/images/garrafa_2/garrafa2(173).png\n",
      "/home/dblab/projects/Mask_RCNN_v3_dataAug/images/garrafa_2/garrafa2(174).png\n",
      "/home/dblab/projects/Mask_RCNN_v3_dataAug/images/garrafa_2/garrafa2(175).png\n",
      "/home/dblab/projects/Mask_RCNN_v3_dataAug/images/garrafa_2/garrafa2(176).png\n",
      "/home/dblab/projects/Mask_RCNN_v3_dataAug/images/garrafa_2/garrafa2(177).png\n",
      "/home/dblab/projects/Mask_RCNN_v3_dataAug/images/garrafa_2/garrafa2(178).png\n",
      "/home/dblab/projects/Mask_RCNN_v3_dataAug/images/garrafa_2/garrafa2(179).png\n",
      "/home/dblab/projects/Mask_RCNN_v3_dataAug/images/garrafa_2/garrafa2(180).png\n",
      "/home/dblab/projects/Mask_RCNN_v3_dataAug/images/garrafa_2/garrafa2(181).png\n",
      "/home/dblab/projects/Mask_RCNN_v3_dataAug/images/garrafa_2/garrafa2(182).png\n",
      "/home/dblab/projects/Mask_RCNN_v3_dataAug/images/garrafa_2/garrafa2(183).png\n",
      "/home/dblab/projects/Mask_RCNN_v3_dataAug/images/garrafa_2/garrafa2(184).png\n",
      "done\n"
     ]
    }
   ],
   "source": [
    "\n",
    "\n",
    "coordenadas = np.empty([1, 5], dtype=int)\n",
    "\n",
    "df_fileName = pd.DataFrame()\n",
    "nomes_masks = pd.DataFrame()\n",
    "\n",
    "#print(coordenadas.shape)\n",
    "\n",
    "for i in range(0,len(arquivos_imagens)-1):\n",
    "    #print(len(arquivos_imagens))\n",
    "\n",
    "#for i in range(0, 1):\n",
    "    \n",
    "    path = imagens_produto_path + arquivos_imagens[i]\n",
    "    image = skimage.io.imread(path)\n",
    "    \n",
    "    print(path)\n",
    "    \n",
    "    df_fileName.loc[len(df_fileName),0] = \"images/\"+nome_produto+\"/\"+arquivos_imagens[i]\n",
    "    # Run detection\n",
    "    results = model.detect([image], verbose=0)\n",
    "  \n",
    "    # Visualize results\n",
    "    r = results[0]\n",
    "\n",
    "    b = np.empty([1, 5], dtype=int)\n",
    "    #print('b 0 ',b)\n",
    "\n",
    "    b[0,:-1] = r['rois'][0]\n",
    "  \n",
    "    \n",
    "\n",
    "    b[0,4] = i\n",
    "\n",
    "    coordenadas = np.append(coordenadas, b, axis=0)\n",
    "  \n",
    "    imagem_export = r['masks'][:,:,0]\n",
    "    im = Image.fromarray(imagem_export.astype('uint8')*255)\n",
    "    \n",
    "    im.save(\"output/\"+nome_produto+\"/mask_(\"+\"{}\".format(i)+\").png\")\n",
    "    nomes_masks.loc[len(nomes_masks),0] = \"output/\"+nome_produto+\"/mask_(\"+\"{}\".format(i)+\").png\"\n",
    "    \n",
    "    bbs = BoundingBoxesOnImage([\n",
    "    BoundingBox(x1=b[0,1], x2=b[0,3], y1=b[0,0], y2=b[0,2]),\n",
    "    #BoundingBox(x1=0.4*xmin, x2=0.65*xmax, y1=0.1*ymin, y2=0.4*ymax)\n",
    "    ], shape=image.shape)\n",
    "    \n",
    "    posx = round(random.uniform(-0.2,0.2), 2)\n",
    "    posy = round(random.uniform(-0.2,0.2), 2)\n",
    "    scl = round(random.uniform(0.2,1.0), 2)\n",
    "    \n",
    "    seq = iaa.Sequential([\n",
    "    iaa.GammaContrast(1.5),\n",
    "    iaa.Affine(translate_percent={\"x\": posx, \"y\": posy}, scale=scl)\n",
    "    ])\n",
    "    #print(type(image))\n",
    "    image_aug, bbs_aug = seq(image=image, bounding_boxes=bbs)\n",
    "    \n",
    "    co_au = np.empty([1, 5], dtype=float)\n",
    "    co_au[0,:] = [round(bbs_aug.bounding_boxes[0].y1,1),round(bbs_aug.bounding_boxes[0].x1,1),round(bbs_aug.bounding_boxes[0].y2,1),round(bbs_aug.bounding_boxes[0].x2,1), i]\n",
    "    \n",
    "    #print(type(co_au))\n",
    "    #print(type(im))\n",
    "    im2 = Image.fromarray(image_aug)\n",
    "    im2.save(\"output/\"+nome_produto+\"/aum_(\"+\"{}\".format(i)+\").png\")\n",
    "    df_fileName.loc[len(df_fileName),0] = \"output/\"+nome_produto+\"/aum_(\"+\"{}\".format(i)+\").png\"\n",
    "    \n",
    "    coordenadas = np.append(coordenadas, co_au, axis=0)\n",
    "    \n",
    "    image_m = skimage.io.imread(\"output/\"+nome_produto+\"/mask_(\"+\"{}\".format(i)+\").png\")\n",
    "    image_aug_2, bbs_aug_2 = seq(image=image_m, bounding_boxes=bbs)\n",
    "    im_mask_aug = Image.fromarray(image_aug_2)\n",
    "    im_mask_aug.save(\"output/\"+nome_produto+\"/aum_mask_(\"+\"{}\".format(i)+\").png\")\n",
    "    nomes_masks.loc[len(nomes_masks),0] = \"output/\"+nome_produto+\"/aum_mask_(\"+\"{}\".format(i)+\").png\"\n",
    "    \n",
    "    \n",
    "coordenadas = np.delete(coordenadas, 0, 0)\n",
    "\n",
    "names = [\"Ymin\", \"Xmin\", \"Ymax\", \"Xmax\", \"id\"]\n",
    "\n",
    "df = pd.DataFrame(coordenadas, columns=names)\n",
    "\n",
    "\n",
    "\n",
    "df[\"name\"] = df_fileName\n",
    "df[\"mask\"] = nomes_masks\n",
    "\n",
    "#print(df_fileName.shape)\n",
    "\n",
    "df.to_csv(\"output/\"+nome_produto+\"/\"+nome_produto+\".csv\", index=True, header=True, sep=',')\n",
    "\n",
    "#print(df)\n",
    "print(\"done\")\n"
   ]
  },
  {
   "cell_type": "markdown",
   "metadata": {
    "colab_type": "text",
    "id": "15MmM7qjP4ZO"
   },
   "source": [
    "# Background Removal"
   ]
  },
  {
   "cell_type": "code",
   "execution_count": null,
   "metadata": {},
   "outputs": [],
   "source": [
    "\n",
    "\n",
    "# Load a random image from the images folder\n",
    "#for i in range(0,351):\n",
    "for i in range(0,1):\n",
    "    path = 'images/garrafa_2/garrafa2('+\"{}\".format(i)+').png'\n",
    "    image = skimage.io.imread(path)\n",
    "#image = skimage.io.imread(os.path.join(IMAGE_DIR, random.choice(file_names)))\n",
    "\n",
    "# Run detection\n",
    "    results = model.detect([image], verbose=1)"
   ]
  },
  {
   "cell_type": "code",
   "execution_count": null,
   "metadata": {},
   "outputs": [],
   "source": [
    "# Visualize results\n",
    "r = results[0]\n",
    "\n",
    "r['masks'].shape\n",
    "\n",
    "#r['masks'].transpose(1, 0, 2).shape\n",
    "\n",
    "image.shape\n",
    "\n",
    "#print(r['masks'])\n",
    "\n",
    "#np.savetxt(\"images/coord_mascara.csv\", r['masks'], delimiter=\",\", fmt='%s')\n",
    "#print(done)\n",
    "\n",
    "#visualize.apply_mask(image[:,:,:2], r['masks'], [1, 0, 0], alpha=1.0)\n",
    "\n",
    "\n",
    "visualize.display_instances(image, r['rois'], r['masks'], r['class_ids'], \n",
    "                       class_names, r['scores'])\n",
    "\n",
    "#visualize.save_image(image, \"mascara_197\", r['rois'], r['masks'], r['class_ids'], \n",
    "#                        r['scores'], class_names, mode = 3)"
   ]
  },
  {
   "cell_type": "code",
   "execution_count": null,
   "metadata": {},
   "outputs": [],
   "source": [
    "#PARA TODAS AS IMAGENS GERAR MASCARAS\n",
    "\n",
    "# Load a random image from the images folder\n",
    "for i in range(0,n_aquivos):\n",
    "\n",
    "    path = 'images/garrafa_2/garrafa2('+\"{}\".format(i)+').png'\n",
    "    image = skimage.io.imread(path)\n",
    "#image = skimage.io.imread(os.path.join(IMAGE_DIR, random.choice(file_names)))\n",
    "\n",
    "# Run detection\n",
    "    results = model.detect([image], verbose=1)\n",
    "    \n",
    "    # Visualize results\n",
    "    r = results[0]\n",
    "    \n",
    "  \n",
    "    if results[0]['rois'].shape == (1,4):\n",
    "    \n",
    "        visualize.save_image(image, 'mask_('+\"{}\".format(i)+')', r['rois'], r['masks'], r['class_ids'], \n",
    "                        r['scores'], class_names, mode = 3)\n",
    "        print(i)\n",
    "     \n",
    "print('done');\n",
    "    \n",
    "    "
   ]
  }
 ],
 "metadata": {
  "accelerator": "GPU",
  "colab": {
   "collapsed_sections": [],
   "name": "Copy of Mask_RCNN.ipynb",
   "provenance": [],
   "toc_visible": true,
   "version": "0.3.2"
  },
  "kernelspec": {
   "display_name": "Python 3",
   "language": "python",
   "name": "python3"
  },
  "language_info": {
   "codemirror_mode": {
    "name": "ipython",
    "version": 3
   },
   "file_extension": ".py",
   "mimetype": "text/x-python",
   "name": "python",
   "nbconvert_exporter": "python",
   "pygments_lexer": "ipython3",
   "version": "3.5.2"
  }
 },
 "nbformat": 4,
 "nbformat_minor": 1
}
